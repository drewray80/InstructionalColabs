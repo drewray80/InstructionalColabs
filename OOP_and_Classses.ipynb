{
  "nbformat": 4,
  "nbformat_minor": 0,
  "metadata": {
    "colab": {
      "provenance": []
    },
    "kernelspec": {
      "name": "python3",
      "display_name": "Python 3"
    },
    "language_info": {
      "name": "python"
    }
  },
  "cells": [
    {
      "cell_type": "markdown",
      "source": [
        "# Object Oriented Programming and Classes\n",
        "In this class, you learned to work with variables and use them to do tasks.\n",
        "Then you learned that you can organize variables and tasks into functions.\n",
        "Now you will learn how to organize variables and functions into classes of objects.\n",
        "Object-oriented programming is just another level of organization for building programs.  \n",
        "![1.PNG](data:image/png;base64,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)"
      ],
      "metadata": {
        "id": "qdRvnZB3mH5B"
      }
    },
    {
      "cell_type": "markdown",
      "source": [
        "## Object-oriented Programming (OOP)\n",
        "So far in this class, we have been using procedural programming using built-in classes and objects.  \n",
        "\n",
        "**Procedural Programming**: organizing programs into a series of functions that process data from variables  \n",
        "\n",
        "\n",
        "In this unit, we will learn about object-oriented programming and how you can\n",
        "create your own classes and objects.  \n",
        "\n",
        "**Object-oriented Programming**: programming that uses objects to organize data and processes  \n",
        "\n",
        "**Class**: a template or blueprint from which objects are made  \n",
        "\n",
        "**Attributes**: data that can be stored (or \"attributed to\") a class of objects (think of these as variables)  \n",
        "\n",
        "**Methods**: defines the tasks that an object can perform\t(these are like the functions for a class of objects)"
      ],
      "metadata": {
        "id": "Yidi4reGmL8U"
      }
    },
    {
      "cell_type": "markdown",
      "source": [
        "### So what does all of that mean?\n",
        "Lets look a some built-in classes that you are familiar with:  \n",
        "(this will be a little simplified to make the point)  \n",
        "\n",
        "An *int* in Python is a type of object that has attributes  \n",
        "(must be a number, no decimals...) and it has methods (adding, subtracting...)  \n",
        "\n",
        "A *float* is similar to an *int*, but it has slightly different attributes (has a decimal, ...) and methods (round(),...)  \n",
        "\n",
        "A *string* is very different from an *int* or *float* because it is words.  \n",
        "So the attributes and methods must be very different, but the process for defining the attributes and methods are the same.\n",
        "\n",
        "In Python, we can use built-in classes or classes from modules.  \n",
        "**Or we can create our own classes**."
      ],
      "metadata": {
        "id": "U_6MfN1mnMba"
      }
    },
    {
      "cell_type": "code",
      "source": [],
      "metadata": {
        "id": "EcICQ52QrIgD"
      },
      "execution_count": null,
      "outputs": []
    },
    {
      "cell_type": "markdown",
      "source": [
        "## Creating a Class  \n",
        "The concept of classes can build into something very complex.  \n",
        "We will start with the classic simple example using dogs and cats.  \n"
      ],
      "metadata": {
        "id": "DD-1FRMpn1OF"
      }
    },
    {
      "cell_type": "markdown",
      "source": [
        "### Attributes and Methods of Dogs and Cats:\n",
        "\n",
        "Dog Attributes:\n",
        "Dog Methods:\n",
        "\n",
        "Cat Attributes:\n",
        "Cat Methods:"
      ],
      "metadata": {
        "id": "JaNMmdQKoPbY"
      }
    },
    {
      "cell_type": "markdown",
      "source": [
        "### Initializing and Attributes:  \n",
        "When we create a class in Python, we start by initializing the class.  \n",
        "(always name your classes with a capital)\n",
        "\n",
        "The self parameter is used so that when we create an object all of the attributes and methods for that object can be connected to it.  \n",
        "(connected to itself so we use 'self')"
      ],
      "metadata": {
        "id": "8RGfTMfconkf"
      }
    },
    {
      "cell_type": "code",
      "execution_count": null,
      "metadata": {
        "id": "faglWhoXl_YR"
      },
      "outputs": [],
      "source": []
    },
    {
      "cell_type": "markdown",
      "source": [
        "#### \\_\\_init__ Function:\n",
        "In the \\_\\_init__ function, we list the attributes of the class and assign them to self."
      ],
      "metadata": {
        "id": "zhRbXSkuo7pf"
      }
    },
    {
      "cell_type": "code",
      "source": [],
      "metadata": {
        "id": "80SpsOzEpQSG"
      },
      "execution_count": null,
      "outputs": []
    },
    {
      "cell_type": "markdown",
      "source": [
        "#### Defaults:\n",
        "We can set defaults with an = in the init function."
      ],
      "metadata": {
        "id": "lzkUqoZgpckq"
      }
    },
    {
      "cell_type": "code",
      "source": [],
      "metadata": {
        "id": "Lh5WHda2pjqY"
      },
      "execution_count": null,
      "outputs": []
    },
    {
      "cell_type": "markdown",
      "source": [
        "#### Now that we have a Dog class, we can create a Dog.\n",
        "We assigned rover the name 'Rover'.  \n",
        "Since we did not assign a color, he is the default 'brown'.  \n",
        "We call the name using the dot operator."
      ],
      "metadata": {
        "id": "_TPhWWqApkHZ"
      }
    },
    {
      "cell_type": "code",
      "source": [],
      "metadata": {
        "id": "1j-wCFZlpwBl"
      },
      "execution_count": null,
      "outputs": []
    },
    {
      "cell_type": "markdown",
      "source": [
        "### Methods:\n",
        "To give Dog methods, we write functions that call self then any variable that we need in the function."
      ],
      "metadata": {
        "id": "zAAxKPh0pwVM"
      }
    },
    {
      "cell_type": "code",
      "source": [],
      "metadata": {
        "id": "b-UUpwX6q4Uz"
      },
      "execution_count": null,
      "outputs": []
    }
  ]
}