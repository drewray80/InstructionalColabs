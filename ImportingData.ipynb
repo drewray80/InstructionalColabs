{
  "nbformat": 4,
  "nbformat_minor": 0,
  "metadata": {
    "colab": {
      "provenance": [],
      "collapsed_sections": [
        "99iSr2654pF5",
        "h5zbx-4-5CpA",
        "U_rRv7YlMLmo",
        "XQeqXrVuMkgv",
        "zdLfLyxyOpA2",
        "wvWRP-DAPiB_",
        "mVwmj0EgX6oB",
        "bPvLPXOlby_7"
      ]
    },
    "kernelspec": {
      "name": "python3",
      "display_name": "Python 3"
    },
    "language_info": {
      "name": "python"
    }
  },
  "cells": [
    {
      "cell_type": "markdown",
      "source": [
        "#Importing Data into Your Colab Notebooks\n",
        "There are several ways to import data, such as a csv, into your notebook. We will discuss 3 ways.  \n",
        "- Directly from a url.\n",
        "- Importing from your local machine.\n",
        "- By mounting your Google Drive.\n",
        "\n",
        "In all 3 methods, we will use pandas to read the files after they are imported.  \n",
        "\n",
        "In Colab's documentation under More Resources, they provide a link (\"Loading data:...\") that connects you to documentation for ways to load your data into colab. In this link, you can find information for the ways we will load data plus other processes for loading data such as PyDrive, REST API, and Google Cloud Services. We will not practice these, but this is the link if you are interested.  \n",
        "[Loading data:Drive,Sheets, and Google Cloud Servies]('https://colab.research.google.com/notebooks/io.ipynb')\n",
        "\n",
        "\n",
        "\n"
      ],
      "metadata": {
        "id": "99iSr2654pF5"
      }
    },
    {
      "cell_type": "markdown",
      "source": [
        "## Directly from a URL  \n",
        "You can import directly from a url if the **raw** csv data is available on a url.  \n",
        "This is not common.  But if the data is available as raw data from a url, this is the simpliest way to import.  \n",
        "The example below is one of the csv examples that we already looked at in class.  \n",
        "If you use the link in your browser, you can see the raw csv data.\n"
      ],
      "metadata": {
        "id": "h5zbx-4-5CpA"
      }
    },
    {
      "cell_type": "code",
      "execution_count": null,
      "metadata": {
        "id": "Mq1o2wGY4gjT"
      },
      "outputs": [],
      "source": [
        "# Start by importing pyplot from matplotlib as plt. And import pandas as pd.\n",
        "\n",
        "\n",
        "# Now we will assign the url link as a string to the variable named url.\n",
        "# And use the read_csv method in pandas to assign the csv information to the variable we named data.\n",
        "# Uncomment the next 2 lines\n",
        "# url = 'https://raw.githubusercontent.com/rashida048/Datasets/master/movie_dataset.csv'\n",
        "# data = pd.read_csv(url)\n",
        "\n",
        "# Now that our data has been read by pandas, we can reference columns of data using data['name at the top of the column']\n",
        "# Use ctrl-right click to go to the url above to see the csv data in another window and you will see the column names I am using below.\n",
        "# Uncomment the next 2 lines and run the code.\n",
        "# budget = data['budget']\n",
        "# revenue = data['revenue']\n",
        "\n",
        "# We are going to run this as a scatter plot.\n",
        "plt.scatter(budget, revenue)\n",
        "\n",
        "plt.title('Movie Data')\n",
        "plt.xlabel('Budget')\n",
        "plt.ylabel('Revenue')\n",
        "\n",
        "plt.show()\n"
      ]
    },
    {
      "cell_type": "markdown",
      "source": [
        "### Another url Example\n",
        "This is another example of importing from a url that I included as another reference for you.  \n",
        "This example come from Corey Schafer's tutorial."
      ],
      "metadata": {
        "id": "U_rRv7YlMLmo"
      }
    },
    {
      "cell_type": "code",
      "execution_count": null,
      "metadata": {
        "id": "HQK3FhO1OpRn"
      },
      "outputs": [],
      "source": [
        "#@title\n",
        "import pandas as pd\n",
        "from matplotlib import pyplot as plt\n",
        "\n",
        "url = 'https://raw.githubusercontent.com/CoreyMSchafer/code_snippets/master/Python/Matplotlib/05-Fill_Betweens/data.csv'\n",
        "data = pd.read_csv(url)\n",
        "ages = data['Age']\n",
        "dev_salaries = data['All_Devs']\n",
        "py_salaries = data['Python']\n",
        "js_salaries = data['JavaScript']\n",
        "\n",
        "plt.plot(ages, dev_salaries, color='#444444',\n",
        "         linestyle='--', label='All Devs')\n",
        "\n",
        "plt.plot(ages, py_salaries, label='Python')\n",
        "\n",
        "overall_median = 57287\n",
        "\n",
        "plt.fill_between(ages, py_salaries, dev_salaries, where=(py_salaries > dev_salaries),\n",
        "                 interpolate=True, alpha=0.25, label='Above Avg')\n",
        "\n",
        "plt.fill_between(ages, py_salaries, dev_salaries, where=(py_salaries <= dev_salaries),\n",
        "                 interpolate=True, color='red', alpha=0.25, label='Below Avg')\n",
        "plt.legend()\n",
        "\n",
        "plt.title('Median Salary (USD) by Age')\n",
        "plt.xlabel('Ages')\n",
        "plt.ylabel('Median Salary (USD)')\n",
        "\n",
        "plt.tight_layout()\n",
        "\n",
        "plt.show()"
      ]
    },
    {
      "cell_type": "markdown",
      "source": [
        "## Importing from Your Local Machine\n",
        "**Files that are uploaded directly into a colab notebook are not saved when the session ends, so you will need to upload the files each time you start a new session.**\n",
        "\n",
        "You can upload files in 2 ways:\n",
        "- Using the Files Tab  \n",
        "- Using code in your code cell"
      ],
      "metadata": {
        "id": "XQeqXrVuMkgv"
      }
    },
    {
      "cell_type": "markdown",
      "source": [
        "### Using the Files Tab\n",
        "On the left side of the window, there is a button that looks like a file.  \n",
        "If you click that file button, there is a button that will let you \"Upload to session storage\".  \n",
        "You can click that button and choose the file you want to upload from the local machine.  \n",
        "After the file is uploaded to the session storage, you can access it in your code.\n",
        "\n",
        "\n",
        "In the Google Classroom Assignment, I included Howard_Data.csv.  \n",
        "- Download that csv to your computer, then upload it to this session.\n",
        "\n",
        "You will get a pop up that warns you that the csv will not be saved at the end of the session.\n",
        "\n",
        "\n",
        "Now that the csv is in your session storage, go through the code below to create a histogram.\n",
        "\n",
        "**To open the file, we will need the path to the file.  \n",
        "To copy the path, click on the 3 dots on the right side of the file name.**\n"
      ],
      "metadata": {
        "id": "zdLfLyxyOpA2"
      }
    },
    {
      "cell_type": "code",
      "source": [
        "from matplotlib import pyplot as plt\n",
        "import pandas as pd\n",
        "\n",
        "plt.style.use('seaborn')\n",
        "\n",
        "# The next 2 lines of code let you change the height and width of the graph.\n",
        "plt.rcParams['figure.dpi'] = 100\n",
        "plt.rcParams['savefig.dpi'] = 300\n",
        "\n",
        "# In your Codecademy lesson, you learned to use with open to access files.\n",
        "# We will use with open to access the Howard_Data csv.\n",
        "# To identify the file, we will need the path. (in this case, '/content/Howard_Data.csv')\n",
        "# ***To copy the path, click on the 3 dots to the right of the file name.***\n",
        "with open('/content/Howard_Data.csv') as file:\n",
        "  data = pd.read_csv(file)\n",
        "\n",
        "# In histograms, we need to assign bins to set the divisions of the data.\n",
        "bins = [20, 30, 40, 50, 60, 70, 80, 90, 100, 110]\n",
        "\n",
        "# This is the line of code for the histogram.\n",
        "# The edgecolor puts a line of color around the columns so they will be easier to see.\n",
        "plt.hist(data, bins=bins, color='#daf01a', edgecolor='black')\n",
        "\n",
        "# Here I used the max() and min() methods to find the max and min of the data.\n",
        "max = int(data.max())\n",
        "min = int(data.min())\n",
        "\n",
        "# Here I added vertical lines at 75, max and min.\n",
        "# I also added labels to these lines, so the labels can be added to the legend.\n",
        "plt.axvline(75, color='green', label='Passing: 75', linewidth=4)\n",
        "plt.axvline(max, color='blue', label=('Highest Score: '+str(max)), linewidth=4)\n",
        "plt.axvline(min, color='red', label=('Lowest Score: '+str(min)), linewidth=4)\n",
        "\n",
        "# This adds the legend to the graph.\n",
        "# loc() let me change the location of the legend in my graph. These are x, y coordinates\n",
        "plt.legend(loc=(0.15, 0.8))\n",
        "\n",
        "plt.title('Biology Test Scores')\n",
        "plt.xlabel('Scores')\n",
        "plt.ylabel('Number of Students')\n",
        "\n",
        "plt.tight_layout()\n",
        "plt.show()"
      ],
      "metadata": {
        "id": "ZIVCTtG1RRkH"
      },
      "execution_count": null,
      "outputs": []
    },
    {
      "cell_type": "markdown",
      "source": [
        "### Using Code\n",
        "We can also use code that Google wrote to upload files.  \n",
        "Run the code cell below and you will see how it works.  \n",
        "You can choose the file you want to upload after you click the button in the output cell.  \n",
        "\n",
        "(You can also probably use this to automate uploading your files when you run your code for the first time.)\n",
        "\n",
        "**The downside of this method is that it mounts your whole Drive, so it may slow your processing speeds.**  \n",
        "For that reason, **I would not recommend this method.**"
      ],
      "metadata": {
        "id": "wvWRP-DAPiB_"
      }
    },
    {
      "cell_type": "code",
      "source": [
        "from google.colab import files\n",
        "\n",
        "uploaded = files.upload()\n",
        "\n",
        "for fn in uploaded.keys():\n",
        "  print('User uploaded file \"{name}\" with length {length} bytes'.format(\n",
        "      name=fn, length=len(uploaded[fn])))"
      ],
      "metadata": {
        "id": "an17PYwPWooD"
      },
      "execution_count": null,
      "outputs": []
    },
    {
      "cell_type": "markdown",
      "source": [
        "## Mounting Google Drive\n",
        "Mounting your Google Drive to the notebook allows you to pull any file directly from your Drive to use in the notebook.\n",
        "\n",
        "**The downside of this method is that it mounts your whole Drive, so it may slow your processing speeds.**  \n",
        "For that reason, **I would not recommend this method.**"
      ],
      "metadata": {
        "id": "mVwmj0EgX6oB"
      }
    },
    {
      "cell_type": "markdown",
      "source": [
        "### Using the Files Tab\n",
        "You may have noticed that the Files Tab has a file button that looks like a file with the Drive icon on it.  \n",
        "If you click that button, it will upload your Drive.  \n",
        "(You will get a pop up telling you that this may take a while.)"
      ],
      "metadata": {
        "id": "ogWbgSRPbWST"
      }
    },
    {
      "cell_type": "markdown",
      "source": [
        "### Using Code\n",
        "You can also use the code below to mount your Drive.  \n",
        "This code can be run in its own cell or part of a code cell you are working in."
      ],
      "metadata": {
        "id": "bPvLPXOlby_7"
      }
    },
    {
      "cell_type": "code",
      "execution_count": null,
      "metadata": {
        "id": "RWSJpsyKqHjH"
      },
      "outputs": [],
      "source": [
        "from google.colab import drive\n",
        "drive.mount('/content/drive')"
      ]
    },
    {
      "cell_type": "markdown",
      "source": [
        "Once your Google Drive is mounted, you can copy the path to any file in your Drive and use it in a with open statement to access the data on the file."
      ],
      "metadata": {
        "id": "F3HyaN_fcNPq"
      }
    }
  ]
}