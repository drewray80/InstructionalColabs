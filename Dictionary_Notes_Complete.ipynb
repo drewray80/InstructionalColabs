{
  "nbformat": 4,
  "nbformat_minor": 0,
  "metadata": {
    "colab": {
      "provenance": []
    },
    "kernelspec": {
      "name": "python3",
      "display_name": "Python 3"
    },
    "language_info": {
      "name": "python"
    }
  },
  "cells": [
    {
      "cell_type": "markdown",
      "source": [
        "# Dictionaries in Python"
      ],
      "metadata": {
        "id": "0N21wiLe6N-e"
      }
    },
    {
      "cell_type": "markdown",
      "source": [
        "## Introduction to Python Dictionaries\n",
        "A **dictionary** is an unordered set of key: value pairs.\n",
        "\n",
        "It provides us with a way to map pieces of data to each other so that we can quickly find values that are associated with one another.  \n",
        "\n",
        "\n",
        "---\n",
        "\n",
        "\n",
        "\n",
        "Suppose we want to store the prices of various items sold at a cafe:\n",
        "\n",
        "- Avocado Toast is 6 dollars  \n",
        "- Carrot Juice is 5 dollars  \n",
        "- Blueberry Muffin is 2 dollars     \n",
        "\n",
        "In Python, we can create a dictionary called menu to store this data:\n",
        "\n",
        "menu = {\"avocado toast\": 6, \"carrot juice\": 5, \"blueberry muffin\": 2}\n",
        "\n",
        "\n",
        "---\n",
        "\n",
        "\n",
        "Notice that:\n",
        "\n",
        "- A dictionary begins and ends with curly braces { and }.\n",
        "- Each item consists of a key (\"avocado toast\") and a value (6).\n",
        "- Each key: value pair is separated by a comma.\n",
        "- It’s considered good practice to insert a space ( ) after each comma, but our code will still run without the space."
      ],
      "metadata": {
        "id": "d0O-_he76XQT"
      }
    },
    {
      "cell_type": "markdown",
      "source": [
        "## Dictionary Basics"
      ],
      "metadata": {
        "id": "hQM59T7T5vg9"
      }
    },
    {
      "cell_type": "markdown",
      "source": [
        "### Make a Dictionary  \n",
        "In the code block below, **create a dictionary** with **at least 4** key/value pairs.  \n",
        "Then **print** your dictionary."
      ],
      "metadata": {
        "id": "RmGS1h3i7HE3"
      }
    },
    {
      "cell_type": "code",
      "execution_count": null,
      "metadata": {
        "id": "jhxb0Vjx6KZu",
        "colab": {
          "base_uri": "https://localhost:8080/"
        },
        "outputId": "88fd2362-38eb-4345-b748-644505fc1d45"
      },
      "outputs": [
        {
          "output_type": "stream",
          "name": "stdout",
          "text": [
            "{'freshman': '9th grade', 'sophomore': '10th grade', 'junior': '11th grade', 'senior': '12th grade'}\n"
          ]
        }
      ],
      "source": [
        "# Create your dictionary in the block.\n",
        "students = {'freshman':'9th grade', 'sophomore':'10th grade', 'junior':'11th grade','senior':'12th grade'}\n",
        "print(students)"
      ]
    },
    {
      "cell_type": "markdown",
      "source": [
        "### Empty Dictionary  \n",
        "Now we will create an empty dictionary and add keys and values to it.  "
      ],
      "metadata": {
        "id": "RqRD_5yO7m2y"
      }
    },
    {
      "cell_type": "code",
      "source": [
        "# Create your empty dictionary below this line. Then run this code block.\n",
        "mascots = {}"
      ],
      "metadata": {
        "id": "zGAnvfDv8LVT"
      },
      "execution_count": null,
      "outputs": []
    },
    {
      "cell_type": "markdown",
      "source": [
        "### Add a Key\n",
        "To add a single key: value pair to a dictionary, we can use the syntax:\n",
        "\n",
        "dictionary[key] = value\n",
        "\n",
        "Add a key: value pair to your empty dictionary you made."
      ],
      "metadata": {
        "id": "Kawtr-Jq8W4z"
      }
    },
    {
      "cell_type": "code",
      "source": [
        "# Write the code to add your key: value pair to your empty dictionary. Then print it.\n",
        "mascots[\"Clemson\"] = \"Tigers\"\n",
        "print(mascots)"
      ],
      "metadata": {
        "id": "17_ilEPn8yhQ",
        "colab": {
          "base_uri": "https://localhost:8080/"
        },
        "outputId": "1c6d459b-c37e-4281-d8a2-f43f2bbbbb49"
      },
      "execution_count": null,
      "outputs": [
        {
          "output_type": "stream",
          "name": "stdout",
          "text": [
            "{'Clemson': 'Tigers'}\n"
          ]
        }
      ]
    },
    {
      "cell_type": "markdown",
      "source": [
        "### Lists in Dictionaries  \n",
        "We can have a list as a **value** in a dictionary.  \n",
        "But we cannot have a list as a **key** in a dictionary.  \n",
        "\n",
        "This is because as we reference items in a dictionary by their **key**, so the key cannot be changable to prevent later issues.  \n",
        "\n",
        "Lists are **mutable**, meaning they can be changed.  \n",
        "Keys must be **immutable** types, such as strings or tuples.\n",
        "\n",
        "Try to add another key:value pair to your dictionary.  \n",
        "But this time, use a list as the **key**."
      ],
      "metadata": {
        "id": "iKDJ4ZzG5sYM"
      }
    },
    {
      "cell_type": "code",
      "source": [
        "mascots[['Clemson','Auburn','LSU']] = 'Tigers'"
      ],
      "metadata": {
        "id": "_pseTJBM8NXk",
        "colab": {
          "base_uri": "https://localhost:8080/",
          "height": 179
        },
        "outputId": "0c9f66bc-d33e-453a-fe29-550d8c903ba3"
      },
      "execution_count": null,
      "outputs": [
        {
          "output_type": "error",
          "ename": "TypeError",
          "evalue": "unhashable type: 'list'",
          "traceback": [
            "\u001b[0;31m---------------------------------------------------------------------------\u001b[0m",
            "\u001b[0;31mTypeError\u001b[0m                                 Traceback (most recent call last)",
            "\u001b[0;32m<ipython-input-4-a88fc25052ad>\u001b[0m in \u001b[0;36m<cell line: 1>\u001b[0;34m()\u001b[0m\n\u001b[0;32m----> 1\u001b[0;31m \u001b[0mmascots\u001b[0m\u001b[0;34m[\u001b[0m\u001b[0;34m[\u001b[0m\u001b[0;34m'Clemson'\u001b[0m\u001b[0;34m,\u001b[0m\u001b[0;34m'Auburn'\u001b[0m\u001b[0;34m,\u001b[0m\u001b[0;34m'LSU'\u001b[0m\u001b[0;34m]\u001b[0m\u001b[0;34m]\u001b[0m \u001b[0;34m=\u001b[0m \u001b[0;34m'Tigers'\u001b[0m\u001b[0;34m\u001b[0m\u001b[0;34m\u001b[0m\u001b[0m\n\u001b[0m",
            "\u001b[0;31mTypeError\u001b[0m: unhashable type: 'list'"
          ]
        }
      ]
    },
    {
      "cell_type": "markdown",
      "source": [
        "The word **unhashable** in the error means that the key is not a **hash value**.  \n",
        "**Hash values** must be **immutable**.\n",
        "\n",
        "Try your previous code again, but this time use **( )** instead of **[ ]** around the **key list**.  \n",
        "Using paranthesis around a list makes it a **tuple**, which is **immutable**.  \n",
        "Then print your dictionary."
      ],
      "metadata": {
        "id": "awvAVax-8QvU"
      }
    },
    {
      "cell_type": "code",
      "source": [
        "mascots[('Clemson','Auburn','LSU')] = 'Tigers'\n",
        "print(mascots)"
      ],
      "metadata": {
        "id": "Qm6r19_n9Qgu",
        "colab": {
          "base_uri": "https://localhost:8080/"
        },
        "outputId": "af746c39-f4f7-474e-95db-3bc7858b1c59"
      },
      "execution_count": null,
      "outputs": [
        {
          "output_type": "stream",
          "name": "stdout",
          "text": [
            "{'Clemson': 'Tigers', ('Clemson', 'Auburn', 'LSU'): 'Tigers'}\n"
          ]
        }
      ]
    },
    {
      "cell_type": "markdown",
      "source": [
        "Now add another **key:value** pair and use a **list** as the value.  \n",
        "Then print your dictionary."
      ],
      "metadata": {
        "id": "woXyPy6g9VDp"
      }
    },
    {
      "cell_type": "code",
      "source": [
        "mascots['Alabama'] = ['Crimson Tide','Elephant']\n",
        "print(mascots)"
      ],
      "metadata": {
        "id": "QtEkUc7P9epd",
        "colab": {
          "base_uri": "https://localhost:8080/"
        },
        "outputId": "353fde8d-08fe-42c6-cb26-3db2ec304a73"
      },
      "execution_count": null,
      "outputs": [
        {
          "output_type": "stream",
          "name": "stdout",
          "text": [
            "{'Clemson': 'Tigers', ('Clemson', 'Auburn', 'LSU'): 'Tigers', 'Alabama': ['Crimson Tide', 'Elephant']}\n"
          ]
        }
      ]
    },
    {
      "cell_type": "markdown",
      "source": [
        "### Add Multiple Keys\n",
        "If we wanted to add multiple **key:value** pairs to a dictionary at once, we can use the **.update()** method.\n",
        "\n",
        "---\n",
        "\n",
        "\n",
        "\n",
        "Looking at our sensors object from a previous exercise:\n",
        "\n",
        "sensors = {\"living room\": 21, \"kitchen\": 23, \"bedroom\": 20}\n",
        "\n",
        "\n",
        "\n",
        "---\n",
        "\n",
        "\n",
        "If we wanted to add 3 new rooms, we could use:\n",
        "\n",
        "sensors.update({\"pantry\": 22, \"guest room\": 25, \"patio\": 34})\n",
        "\n",
        "\n",
        "\n",
        "---\n",
        "\n",
        "\n",
        "This would add all three items to the sensors dictionary.\n",
        "\n",
        "Now, sensors looks like:\n",
        "\n",
        "{\"living room\": 21, \"kitchen\": 23, \"bedroom\": 20, \"pantry\": 22, \"guest room\": 25, \"patio\": 34}\n",
        "\n",
        "\n",
        "---\n",
        "\n",
        "Use **.update()** to add multiple **key:value** pairs to your dictionary.\n",
        "Then print your dictionary."
      ],
      "metadata": {
        "id": "FoaFSWWh90G_"
      }
    },
    {
      "cell_type": "code",
      "source": [
        "mascots.update({'USC':'Chickens', 'Lander':'Bearcats', 'UNC':'Tarheels'})\n",
        "print(mascots)"
      ],
      "metadata": {
        "id": "3iFOyxP29zsw",
        "colab": {
          "base_uri": "https://localhost:8080/"
        },
        "outputId": "4f631dcb-10a3-4737-d0bb-d4ef3870bdc5"
      },
      "execution_count": null,
      "outputs": [
        {
          "output_type": "stream",
          "name": "stdout",
          "text": [
            "{'Clemson': 'Tigers', ('Clemson', 'Auburn', 'LSU'): 'Tigers', 'Alabama': ['Crimson Tide', 'Elephant'], 'USC': 'Chickens', 'Lander': 'Bearcats', 'UNC': 'Tarheels'}\n"
          ]
        }
      ]
    },
    {
      "cell_type": "markdown",
      "source": [
        "### Changing the Values  \n",
        "We can change the **value** that is assigned to a **key**, using the same syntax as adding a **key:value** pair.  \n",
        "\n",
        "dictionary[key] = value\n",
        "\n",
        "Use this to change one of your values.\n",
        "Then print your dictionary."
      ],
      "metadata": {
        "id": "DBpA_q0X-fE8"
      }
    },
    {
      "cell_type": "code",
      "source": [
        "mascots['USC'] = 'Gamecocks'\n",
        "print(mascots)"
      ],
      "metadata": {
        "id": "Q8IH8vOn_cu6",
        "colab": {
          "base_uri": "https://localhost:8080/"
        },
        "outputId": "fafcdb54-ff13-4168-b3e1-796bd2d6575c"
      },
      "execution_count": null,
      "outputs": [
        {
          "output_type": "stream",
          "name": "stdout",
          "text": [
            "{'Clemson': 'Tigers', ('Clemson', 'Auburn', 'LSU'): 'Tigers', 'Alabama': ['Crimson Tide', 'Elephant'], 'USC': 'Gamecocks', 'Lander': 'Bearcats', 'UNC': 'Tarheels'}\n"
          ]
        }
      ]
    },
    {
      "cell_type": "markdown",
      "source": [
        "## That's great and all, but why do I care?\n",
        "**Key:value** pairs, like **variables**, **loops** and **functions**, are building blocks for all programming languages.  \n",
        "\n",
        "They are used to organize data and allow us to access data.  \n",
        "\n",
        "Later we will use a standard data format called **json** to get information from **APIs**.  \n",
        "**json** is a standard across many programming languages and it functions just like a **dictionary** in python.  "
      ],
      "metadata": {
        "id": "hq26kKjzAAac"
      }
    },
    {
      "cell_type": "markdown",
      "source": [
        "## Using Dictionaries\n",
        "Now we will practice:  \n",
        "- getting the **value** that goes with a **key**  \n",
        "- getting all the **keys** in a dictionary  \n",
        "- getting all the **values** in a dictionary\n",
        "- interating through a dictionary using the **keys** and **values**"
      ],
      "metadata": {
        "id": "kwFsvXJlALEf"
      }
    },
    {
      "cell_type": "code",
      "source": [
        "# Run this code cell to load our practice dictionary.\n",
        "passwords = {'Randall Conrad':'apple78!',\n",
        "             'Kayley Mathews': 'lamp98',\n",
        "             'Nick Padilla': 'password',\n",
        "             'Kathy Ali': '12345',\n",
        "             'Mackenzie Cantu': 'mcantu784'}\n",
        "\n",
        "print(passwords)"
      ],
      "metadata": {
        "id": "1BqU07tPCOSR",
        "colab": {
          "base_uri": "https://localhost:8080/"
        },
        "outputId": "168185bc-23d2-4c11-aaca-50f40c465a2c"
      },
      "execution_count": null,
      "outputs": [
        {
          "output_type": "stream",
          "name": "stdout",
          "text": [
            "{'Randall Conrad': 'apple78!', 'Kayley Mathews': 'lamp98', 'Nick Padilla': 'password', 'Kathy Ali': '12345', 'Mackenzie Cantu': 'mcantu784'}\n"
          ]
        }
      ]
    },
    {
      "cell_type": "markdown",
      "source": [
        "### Getting a Value\n",
        "Similar to changing a **value** for a given **key**, we can get the **value** using:\n",
        "\n",
        "dictionary[key]\n",
        "\n",
        "Print Kayley's password using:\n",
        "passwords['Kayley Mathews']\n"
      ],
      "metadata": {
        "id": "5Z1kLTILDkce"
      }
    },
    {
      "cell_type": "code",
      "source": [
        "print(passwords['Kayley Mathews'])"
      ],
      "metadata": {
        "id": "BLZ41HWhEdsi",
        "colab": {
          "base_uri": "https://localhost:8080/"
        },
        "outputId": "2e56d87e-6ff5-44e6-fe37-9ac18d06bf31"
      },
      "execution_count": null,
      "outputs": [
        {
          "output_type": "stream",
          "name": "stdout",
          "text": [
            "lamp98\n"
          ]
        }
      ]
    },
    {
      "cell_type": "markdown",
      "source": [
        "Now using **input**, ask the user to:\n",
        "- enter there name *(you should use .title() in case they don't capitalize)*   \n",
        "- then use another **input**, to ask for their password.  \n",
        "- check to see if the password is correct  \n",
        "- if it is correct, reply \"Welcome _______!\"  \n",
        "- if the password is incorrect, reply \"Incorrect Password. Try agian.\""
      ],
      "metadata": {
        "id": "FwRXtG2oEnR1"
      }
    },
    {
      "cell_type": "code",
      "source": [
        "name = input(\"What is your name? \").title()\n",
        "password = input(\"What is your password? \")\n",
        "\n",
        "if passwords[name] == password:\n",
        "  print('Welcome ' + name + \"!!\")\n",
        "else:\n",
        "  print('Incorrect Password. Try agian.')"
      ],
      "metadata": {
        "id": "V8k_JacdGf3i",
        "colab": {
          "base_uri": "https://localhost:8080/"
        },
        "outputId": "0ec347bc-8f13-41c7-9e5f-4b206259394f"
      },
      "execution_count": null,
      "outputs": [
        {
          "output_type": "stream",
          "name": "stdout",
          "text": [
            "What is your name? kayley mathews\n",
            "What is your password? lamp98\n",
            "Welcome Kayley Mathews!!\n"
          ]
        }
      ]
    },
    {
      "cell_type": "markdown",
      "source": [
        "### Get All Keys\n",
        "Use **.keys()** to print all of our user's names.  \n",
        "*print(passwords.keys())*"
      ],
      "metadata": {
        "id": "534vPnPVGkxB"
      }
    },
    {
      "cell_type": "code",
      "source": [
        "print(passwords.keys())"
      ],
      "metadata": {
        "id": "rXq-N6svHH_J",
        "colab": {
          "base_uri": "https://localhost:8080/"
        },
        "outputId": "a24ec8d5-72bc-451b-e818-93a9782bc8a0"
      },
      "execution_count": null,
      "outputs": [
        {
          "output_type": "stream",
          "name": "stdout",
          "text": [
            "dict_keys(['Randall Conrad', 'Kayley Mathews', 'Nick Padilla', 'Kathy Ali', 'Mackenzie Cantu'])\n"
          ]
        }
      ]
    },
    {
      "cell_type": "markdown",
      "source": [
        "### Get All Values\n",
        "Use **.values()** to print all of the user's passwords as a list.  \n",
        "(this time add **list** in front of **passwords**)"
      ],
      "metadata": {
        "id": "-eqjn96_JaGH"
      }
    },
    {
      "cell_type": "code",
      "source": [
        "print(list(passwords.values()))"
      ],
      "metadata": {
        "id": "hRViO1DHJl4T",
        "colab": {
          "base_uri": "https://localhost:8080/"
        },
        "outputId": "327da830-e8bc-467f-ac84-7c9c3e9c02e1"
      },
      "execution_count": null,
      "outputs": [
        {
          "output_type": "stream",
          "name": "stdout",
          "text": [
            "['apple78!', 'lamp98', 'password', '12345', 'mcantu784']\n"
          ]
        }
      ]
    },
    {
      "cell_type": "markdown",
      "source": [
        "### Using **.items()**\n",
        "We can use **.items()** in a **for loop** to use all of the **keys** and **values** in a dictionary.  \n",
        "\n",
        "Before we use **.items()**, let's review using **for loops** with a list real quick first."
      ],
      "metadata": {
        "id": "tDQcSHnDKRkG"
      }
    },
    {
      "cell_type": "code",
      "source": [
        "# Run this code block to see the results of looping over a list.\n",
        "\n",
        "animals = ['dog', 'cat', 'bear']\n",
        "for animal in animals:\n",
        "  print('I like {}s.'.format(animal))"
      ],
      "metadata": {
        "id": "UlJOfWA-LI-f",
        "colab": {
          "base_uri": "https://localhost:8080/"
        },
        "outputId": "90f48428-aee9-45bf-8d9d-f303c5f655a8"
      },
      "execution_count": null,
      "outputs": [
        {
          "output_type": "stream",
          "name": "stdout",
          "text": [
            "I like dogs.\n",
            "I like cats.\n",
            "I like bears.\n"
          ]
        }
      ]
    },
    {
      "cell_type": "markdown",
      "source": [
        "<u>Back to **.items()**</u>\n",
        "\n",
        "You can get both the **keys** and the **values** with the **.items()** method.  \n",
        "Like **.keys()** and **.values()**, it returns a dict_list object.  \n",
        "Each element of the dict_list returned by **.items()** is a **tuple** consisting of:\n",
        "\n",
        "(key, value)\n",
        "\n",
        "\n",
        "---\n",
        "\n",
        "\n",
        "so to iterate through, you can use this syntax:\n",
        "\n",
        "biggest_brands = {\"Apple\": 184, \"Google\": 141.7, \"Microsoft\": 80, \"Coca-Cola\": 69.7, \"Amazon\": 64.8}\n",
        "\n",
        "\n",
        "---\n",
        "\n",
        "\n",
        "for company, value in biggest_brands.items():  \n",
        "&nbsp; print(company + \" has a value of \" + str(value) + \" billion dollars. \")\n",
        "\n",
        "\n",
        "---\n",
        "\n",
        "\n",
        "which would ouput this:\n",
        "\n",
        "Apple has a value of 184 billion dollars.  \n",
        "Google has a value of 141.7 billion dollars.  \n",
        "Microsoft has a value of 80 billion dollars.  \n",
        "Coca-Cola has a value of 69.7 billion dollars.  \n",
        "Amazon has a value of 64.8 billion dollars."
      ],
      "metadata": {
        "id": "sCqNZhADL_KB"
      }
    },
    {
      "cell_type": "code",
      "source": [
        "# Run this code.\n",
        "biggest_brands = {\"Apple\": 184, \"Google\": 141.7, \"Microsoft\": 80, \"Coca-Cola\": 69.7, \"Amazon\": 64.8}\n",
        "brands = []\n",
        "total_value = 0\n",
        "for brand,value in biggest_brands.items():\n",
        "  brands.append(brand)\n",
        "  total_value += value\n",
        "\n",
        "print(\"The top 5 software brands, \" + \", \".join(brands) + \", have a total value of \" + str(round(total_value)) + \" billion dollars.\")\n"
      ],
      "metadata": {
        "id": "wGySYg6aOUKB",
        "colab": {
          "base_uri": "https://localhost:8080/"
        },
        "outputId": "e844b3d0-a417-44a9-f132-d20244dab6fe"
      },
      "execution_count": null,
      "outputs": [
        {
          "output_type": "stream",
          "name": "stdout",
          "text": [
            "The top 5 software brands, Apple, Google, Microsoft, Coca-Cola, Amazon, have a total value of 540 billion dollars.\n"
          ]
        }
      ]
    },
    {
      "cell_type": "code",
      "source": [
        "# Find out who needs to sign up for summer school.\n",
        "student_grades = {'Randall': 80,\n",
        "             'Kayley': 95,\n",
        "             'Nick': 70,\n",
        "             'Kathy': 74,\n",
        "             'Mackenzie': 78}\n",
        "passed = []\n",
        "failed = []\n",
        "\n",
        "for student,grade in student_grades.items():\n",
        "  if grade >= 75:\n",
        "    passed.append(student)\n",
        "  else:\n",
        "    failed.append(student)\n",
        "\n",
        "print('Students that passed: ' + str(passed))\n",
        "print('Students that need summer school: ' + str(failed))"
      ],
      "metadata": {
        "id": "mzn5GjRKT5Ne",
        "colab": {
          "base_uri": "https://localhost:8080/"
        },
        "outputId": "42e038ac-00cb-4d68-84ab-4ac7ff2cc4c1"
      },
      "execution_count": null,
      "outputs": [
        {
          "output_type": "stream",
          "name": "stdout",
          "text": [
            "Students that passed: ['Randall', 'Kayley', 'Mackenzie']\n",
            "Students that need summer school: ['Nick', 'Kathy']\n"
          ]
        }
      ]
    }
  ]
}