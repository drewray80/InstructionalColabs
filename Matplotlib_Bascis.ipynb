{
  "nbformat": 4,
  "nbformat_minor": 0,
  "metadata": {
    "colab": {
      "provenance": [],
      "collapsed_sections": [
        "mcjxaiUpB1r-",
        "8FO4Y0lKKQiY",
        "H7sF0xLY1Fpx",
        "XwgCHmHdOMp3",
        "Ow3Ee-0vXNzZ",
        "UUZm6TJIYYZ7"
      ]
    },
    "kernelspec": {
      "name": "python3",
      "display_name": "Python 3"
    },
    "language_info": {
      "name": "python"
    }
  },
  "cells": [
    {
      "cell_type": "markdown",
      "source": [
        "#Matplotlib Basics\n",
        "[Matplotlib Website]('https://matplotlib.org/')  \n",
        "Matplotlib is one of the oldest libraries for data visualization in Python.  \n",
        "It is continuing to be used, because it offers many options and it is unstandable.  \n",
        "\n",
        "Reference: based on a tutorials by Corey Schafer  \n",
        "https://www.youtube.com/playlist?list=PL-osiE80TeTvipOqomVEeZ1HRrcEvtZB_\n"
      ],
      "metadata": {
        "id": "eJ55bttYw0Ek"
      }
    },
    {
      "cell_type": "markdown",
      "source": [
        "#Line Graphs"
      ],
      "metadata": {
        "id": "KCsKZSagMwTH"
      }
    },
    {
      "cell_type": "markdown",
      "source": [
        "##Basic Line Graphs\n",
        "We will start by creating a basic line graph.  \n",
        "You will use the data that is commented in the code below.  \n",
        "This basic graph will give you a simple example to help you understand the general format of matplotlib."
      ],
      "metadata": {
        "id": "fU6Lp6RAy1PV"
      }
    },
    {
      "cell_type": "code",
      "execution_count": null,
      "metadata": {
        "id": "AKkd6WHdwuMq"
      },
      "outputs": [],
      "source": [
        "#@title\n",
        "# Start by importing pyplot from matplotlib as plt.\n",
        "# (Most of the Matplotlib utilities lie under the pyplot submodule, and are usually imported under the plt alias.)\n",
        "# Type your import statement under this line.\n",
        "\n",
        "\n",
        "# The lists below are sample data about ages and average salaries for software developers.\n",
        "# Uncomment the dev_x and dev_y lists.\n",
        "\n",
        "#dev_x = [25, 26, 27, 28, 29, 30, 31, 32, 33, 34, 35]\n",
        "\n",
        "#dev_y = [38496, 42000, 46752, 49320, 53200,\n",
        "#         56000, 62316, 64928, 67317, 68748, 73752]\n",
        "\n",
        "# Pyplot offers many different types of graphs and charts.\n",
        "# To plot a line graph, we will use the plot function.\n",
        "# plot takes many different optional keyword arguments that we will use later.\n",
        "# For now, we will just enter the 2 required positional arguments: (x values, y values).\n",
        "# Uncomment the line below.\n",
        "\n",
        "#plt.plot(dev_x, dev_y)\n",
        "\n",
        "# To graph the plot, you need to call plt.show()\n",
        "# Uncomment plt.show() line at the bottom and run the code before you uncomment the labels and title.\n",
        "\n",
        "# The output should show a graph with a line and numbers on the axes, but not labels.\n",
        "# We can use the xlabel(), ylabel() and title() functions to add these descriptions.\n",
        "# Uncomment the lines below and run the code again.\n",
        "\n",
        "#plt.xlabel('Ages')\n",
        "#plt.ylabel('Median Salary (USD)')\n",
        "#plt.title('Median Salary (USD) by Age')\n",
        "\n",
        "#plt.show()"
      ]
    },
    {
      "cell_type": "markdown",
      "source": [
        "##Multiple Lines on a Graph\n",
        "Now we will add 2 more lines to the same graph.  \n",
        "- We will use the same x values for all 3 sets of y values.  \n",
        "- And we will keep the x_label and y_label.  \n",
        "- Since we have 3 lines, we will need to call plt.plot() for each line.\n",
        "\n",
        "We are also going to add additional keyword arguments (**kwargs) to the code.  \n",
        "These will give us more style options.  \n",
        "\n",
        "To see all of the possible keyword parameters that are available, use the link below to get to the pyplot.plot documentation.  \n",
        "[Docs Link]('https://matplotlib.org/stable/api/_as_gen/matplotlib.pyplot.plot.html')  \n",
        "\n",
        "After you run the code, look at the graph and the code.  \n",
        "Make adjustments to the code to experiment with the optional keyword parameters.\n",
        "\n"
      ],
      "metadata": {
        "id": "mcjxaiUpB1r-"
      }
    },
    {
      "cell_type": "code",
      "source": [
        "from matplotlib import pyplot as plt\n",
        "\n",
        "dev_x = [25, 26, 27, 28, 29, 30, 31, 32, 33, 34, 35]\n",
        "\n",
        "all_dev_y = [38496, 42000, 46752, 49320, 53200,\n",
        "         56000, 62316, 64928, 67317, 68748, 73752]\n",
        "plt.plot(dev_x, all_dev_y, color='red', linestyle='--', marker='.', label='All Devs')\n",
        "# linestyle gives options other than the default solid line\n",
        "# marker creates a dot, box... at the x value points\n",
        "\n",
        "# Median Python Developer Salaries by Age\n",
        "py_dev_y = [45372, 48876, 53850, 57287, 63016,\n",
        "            65998, 70003, 70000, 71496, 75370, 83640]\n",
        "plt.plot(dev_x, py_dev_y, color='#5a7d9a', marker='o', label='Python')\n",
        "# colors can be strings or hex colors\n",
        "\n",
        "# Median JavaScript Developer Salaries by Age\n",
        "js_dev_y = [37810, 43515, 46823, 49293, 53437,\n",
        "            56373, 62375, 66674, 68745, 68746, 74583]\n",
        "plt.plot(dev_x, js_dev_y, linestyle=':', linewidth=5, label='JavaScript')\n",
        "# linewidth lets you make the line thicker\n",
        "\n",
        "plt.xlabel('Ages')\n",
        "plt.ylabel('Median Salary (USD)')\n",
        "plt.title('Median Salary (USD) by Age')\n",
        "plt.legend()\n",
        "# legend() creates a legend for the lines\n",
        "# legends also have **kwargs that provide additional options\n",
        "\n",
        "plt.show()"
      ],
      "metadata": {
        "id": "5kq1kMMNCyNS"
      },
      "execution_count": null,
      "outputs": []
    },
    {
      "cell_type": "markdown",
      "source": [
        "##Styles\n",
        "Matplotlib also offers a style library.  \n",
        "These styles are like themes that change the default options to match the style.  \n",
        "\n",
        "To see the styles that are available, run the code below."
      ],
      "metadata": {
        "id": "8FO4Y0lKKQiY"
      }
    },
    {
      "cell_type": "code",
      "source": [
        "import matplotlib\n",
        "\n",
        "matplotlib.style.available"
      ],
      "metadata": {
        "id": "rexvFtWcLMMz"
      },
      "execution_count": null,
      "outputs": []
    },
    {
      "cell_type": "markdown",
      "source": [
        "Edit the code below to try some of these styles."
      ],
      "metadata": {
        "id": "H6kkFLgsLb8f"
      }
    },
    {
      "cell_type": "code",
      "source": [
        "from matplotlib import pyplot as plt\n",
        "\n",
        "# Run the code to see the default style.\n",
        "# Then uncomment the line below to see the 'classic' style.\n",
        "\n",
        "#plt.style.use('classic')\n",
        "\n",
        "# After you see the classic style, try some of the other styles.\n",
        "# Leave the code set to the style you like.\n",
        "\n",
        "dev_x = [25, 26, 27, 28, 29, 30, 31, 32, 33, 34, 35]\n",
        "\n",
        "all_dev_y = [38496, 42000, 46752, 49320, 53200,\n",
        "         56000, 62316, 64928, 67317, 68748, 73752]\n",
        "plt.plot(dev_x, all_dev_y, label='All Devs')\n",
        "\n",
        "\n",
        "# Median Python Developer Salaries by Age\n",
        "py_dev_y = [45372, 48876, 53850, 57287, 63016,\n",
        "            65998, 70003, 70000, 71496, 75370, 83640]\n",
        "plt.plot(dev_x, py_dev_y, label='Python')\n",
        "\n",
        "\n",
        "# Median JavaScript Developer Salaries by Age\n",
        "js_dev_y = [37810, 43515, 46823, 49293, 53437,\n",
        "            56373, 62375, 66674, 68745, 68746, 74583]\n",
        "plt.plot(dev_x, js_dev_y, label='JavaScript')\n",
        "\n",
        "\n",
        "plt.xlabel('Ages')\n",
        "plt.ylabel('Median Salary (USD)')\n",
        "plt.title('Median Salary (USD) by Age')\n",
        "plt.legend()\n",
        "\n",
        "plt.show()"
      ],
      "metadata": {
        "id": "RiJrybkXKBIW"
      },
      "execution_count": null,
      "outputs": []
    },
    {
      "cell_type": "markdown",
      "source": [
        "# Pie Charts"
      ],
      "metadata": {
        "id": "Iqr3CdUs0Su4"
      }
    },
    {
      "cell_type": "markdown",
      "source": [
        "## Basic Pie Charts\n",
        "Pie charts in matplotlib use a similar format to bar graphs.  \n",
        "- But, instead of providing arguments for the x and y values, you use keyword arguments for the slices and the labels and colors of the slices.  \n",
        "- Matplotlib will match the slice value to its label and color based on the order of the elements in the lists.  \n",
        "- Matplotlib will convert the slice values into percentages for you, so that they will combine to be 100%."
      ],
      "metadata": {
        "id": "H7sF0xLY1Fpx"
      }
    },
    {
      "cell_type": "code",
      "source": [
        "from matplotlib import pyplot as plt\n",
        "\n",
        "slices = [50, 30, 5, 15]\n",
        "labels = ['Fifty', 'Thirty', 'Five', 'Fifteen']\n",
        "colors = ['red', 'blue', 'yellow', 'green']\n",
        "\n",
        "plt.pie(slices, labels=labels, colors=colors)\n",
        "\n",
        "plt.title('My Awesome Pie Chart')\n",
        "plt.tight_layout()\n",
        "plt.show()"
      ],
      "metadata": {
        "id": "FLRFVl5z2mYq"
      },
      "execution_count": null,
      "outputs": []
    },
    {
      "cell_type": "markdown",
      "source": [
        "## Pie Chart Keyword Arguments\n",
        "There are other kwargs for pie charts, such as wedge properties *wedgeprops*, that can be used to format the chart.\n",
        "- If the argument should be applied differently to each slice, you can use a list to match the adjustment to the list of slices.\n",
        "- Some of the arguments take bool values, such as the *shadow* argument.\n",
        "- Some arguments take angle degree measures, such as the *startangle*, which changes the starting point of the slices list.\n",
        "- Use the documents to find how to use the kwargs:  \n",
        "[Pie Chart Docs]('https://matplotlib.org/stable/api/_as_gen/matplotlib.pyplot.pie.html')"
      ],
      "metadata": {
        "id": "V6ftZlOC2rHo"
      }
    },
    {
      "cell_type": "code",
      "source": [
        "from matplotlib import pyplot as plt\n",
        "\n",
        "# You can use the same list of styles for pie charts as list graphs.\n",
        "# If you want change the style, uncomment the line below.\n",
        "#plt.style.use('seaborn')\n",
        "# If you want more style options, use the list we made earlier in the bar graph section.\n",
        "\n",
        "# Language Popularity\n",
        "slices = [59219, 55466, 47544, 36443, 35917]\n",
        "labels = ['JavaScript', 'HTML/CSS', 'SQL', 'Python', 'Java']\n",
        "\n",
        "# You can set the colors similarly to our 1st pie.\n",
        "# These colors will override the style colors.\n",
        "# If you uncomment the colors, you will have to add the kwarg colors=colors.\n",
        "#colors = ['#24ed59', '#24eded', '#ed7e24', '#e3ed24', '#b325a9']\n",
        "\n",
        "# Explode will push slices out a percentage of the radius length.\n",
        "# Explode of 0.5 will push out half the length of the radius.\n",
        "# If you uncomment explode, you will need to add explode=explode the plt.pie\n",
        "#explode = [0, 0, 0, 0.1, 0]\n",
        "\n",
        "plt.pie(slices, labels=labels, shadow=True, startangle=90, autopct='%1.1f%%', wedgeprops={'edgecolor':'black'})\n",
        "\n",
        "plt.title('Most Popular Programming Languages')\n",
        "plt.tight_layout()\n",
        "plt.show()"
      ],
      "metadata": {
        "id": "t5pwlK6e5BP2"
      },
      "execution_count": null,
      "outputs": []
    },
    {
      "cell_type": "markdown",
      "source": [
        "# Stack Plots\n"
      ],
      "metadata": {
        "id": "XwgCHmHdOMp3"
      }
    },
    {
      "cell_type": "markdown",
      "source": [
        "Stack plots are another graph option in matplotlib.  \n",
        "They can show a total and the allocation of that total into different categories.  \n",
        "In the example, the graph shows the total amount of points and who scored them over a 9 minute game.  \n",
        "- In the 1st minute, each player scored a point.  \n",
        "- In the second minute, player1 score but no one else added to the score.\n",
        "- In the 5th minute  \n",
        " - player1 had scored 4 points  \n",
        " - player2 and player3 had each scored 2 points\n",
        " - the total points scored was 8"
      ],
      "metadata": {
        "id": "SXFi5_v2X2iY"
      }
    },
    {
      "cell_type": "code",
      "source": [
        "from matplotlib import pyplot as plt\n",
        "\n",
        "plt.style.use(\"fivethirtyeight\")\n",
        "\n",
        "\n",
        "minutes = [1, 2, 3, 4, 5, 6, 7, 8, 9]\n",
        "\n",
        "player1 = [1, 2, 3, 3, 4, 4, 4, 4, 5]\n",
        "player2 = [1, 1, 1, 1, 2, 2, 2, 3, 4]\n",
        "player3 = [1, 1, 1, 1, 2, 2, 3, 3, 3]\n",
        "\n",
        "labels = ['player1', 'player2', 'player3']\n",
        "colors = ['#6d904f', '#fc4f30', '#008fd5']\n",
        "\n",
        "plt.stackplot(minutes, player1, player2, player3, labels=labels, colors=colors)\n",
        "\n",
        "plt.legend(loc='upper left')\n",
        "\n",
        "\n",
        "plt.title(\"My Awesome Stack Plot\")\n",
        "plt.tight_layout()\n",
        "plt.show()\n"
      ],
      "metadata": {
        "id": "8SpP8BUFOTTS"
      },
      "execution_count": null,
      "outputs": []
    },
    {
      "cell_type": "markdown",
      "source": [
        "# Create Your Own Plots\n",
        "You use the data below to make your own line graph and pie chart."
      ],
      "metadata": {
        "id": "Uio06Mi2WzkL"
      }
    },
    {
      "cell_type": "markdown",
      "source": [
        "## Line Graph"
      ],
      "metadata": {
        "id": "Ow3Ee-0vXNzZ"
      }
    },
    {
      "cell_type": "code",
      "source": [
        "years = [2018, 2019, 2020, 2021, 2022]\n",
        "\n",
        "bitcoin_high = [17712, 13796, 20244, 68789, 48086]\n",
        "\n",
        "bitcoin_low = [3191, 3391, 4106, 28722, 15599]\n"
      ],
      "metadata": {
        "id": "yWB_YfKMXVgr"
      },
      "execution_count": null,
      "outputs": []
    },
    {
      "cell_type": "markdown",
      "source": [
        "## Pie Chart"
      ],
      "metadata": {
        "id": "UUZm6TJIYYZ7"
      }
    },
    {
      "cell_type": "code",
      "source": [
        "votes = [145, 7, 94, 26, 10, 85]\n",
        "\n",
        "candidates = ['Tomi', 'Anton', 'Janine', 'Gina', 'Keith', 'Alexa']"
      ],
      "metadata": {
        "id": "WvvEFflAYa7V"
      },
      "execution_count": null,
      "outputs": []
    }
  ]
}