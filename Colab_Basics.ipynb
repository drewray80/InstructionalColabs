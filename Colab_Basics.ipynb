{
  "nbformat": 4,
  "nbformat_minor": 0,
  "metadata": {
    "colab": {
      "provenance": [],
      "collapsed_sections": [
        "kzbMo7Cn7unK",
        "rHsMTH-38Oot",
        "CZwaPa8l9PFC",
        "OoS-oJpIAMQh",
        "lry9DV5rFoYx",
        "Zz9BthlBFBJi",
        "a-jxKSwdIcp6"
      ]
    },
    "kernelspec": {
      "name": "python3",
      "display_name": "Python 3"
    },
    "language_info": {
      "name": "python"
    }
  },
  "cells": [
    {
      "cell_type": "markdown",
      "source": [
        "#**Colab Basics**\n",
        "Colab will allow you to create and run code in the brower using Google's compute power.  You can also document your project by inserting text books like this one."
      ],
      "metadata": {
        "id": "kzbMo7Cn7unK"
      }
    },
    {
      "cell_type": "markdown",
      "source": [
        "##Markdown Language\n",
        "When you enter text in a text cell, you can style the text using the markdown language syntax.  \n",
        "(markdown documents end with .md in the same way python files end with .py)\n"
      ],
      "metadata": {
        "id": "rHsMTH-38Oot"
      }
    },
    {
      "cell_type": "markdown",
      "source": [
        "###Markdown Basic Syntax\n",
        "The basic syntax for markdown includes adding # * > - numbers or html syntax to formate text.  \n",
        "Below the \"Markdown Links\" cell, add a text cell and experiment with the markdown syntax.  "
      ],
      "metadata": {
        "id": "CZwaPa8l9PFC"
      }
    },
    {
      "cell_type": "markdown",
      "source": [
        "#### Markdown Links\n",
        "You can use these links to find a cheat sheet and basic syntax examples:  \n",
        "[Cheat Sheet](https://www.markdownguide.org/cheat-sheet/)\n",
        "[Basic Syntax](https://www.markdownguide.org/basic-syntax/)"
      ],
      "metadata": {
        "id": "lpXdpkHAJ9w0"
      }
    },
    {
      "cell_type": "markdown",
      "source": [
        "##Coding in Colab\n",
        "Now that you have experimented with adding text to a notebook, we will practice adding code.  \n",
        "- In the code block below, use the comments as instructions for adding some simple python code to the block.  \n",
        "- When you finish (or as you go), run the code using the arrow in the upper left corner of the code block.  \n",
        "- The first time you run the code it will seem slow, but that is because your notebook will be connecting to the server. You can see this processing in the upper right corner of the notebook.\n",
        "- Your output will clear each time you run your code. Or you can clear the output by clicking the button in the top left corner of the code cell."
      ],
      "metadata": {
        "id": "OoS-oJpIAMQh"
      }
    },
    {
      "cell_type": "markdown",
      "source": [
        "### Your First Colab Code"
      ],
      "metadata": {
        "id": "lry9DV5rFoYx"
      }
    },
    {
      "cell_type": "code",
      "source": [
        "# Add you code here.\n",
        "# Enter a basic print statment below this comment.\n",
        "\n",
        "\n",
        "# Enter a basic for loop using range to print a string several times below this comment.\n",
        "\n",
        "\n",
        "# Below this comment, create a list of strings that is assigned to a variable.\n",
        "# Then use a for loop to iterate over that list concatenating each word with a sentence in a print statement.\n",
        "\n",
        "\n",
        "# Below this comment, create an input and concatenate the input with a print statement.\n",
        "\n",
        "\n",
        "# Now that you have written some basic code, create a program that does something more interesting.\n",
        "# Type you program below this comment.\n",
        "\n",
        "\n"
      ],
      "metadata": {
        "id": "1PggipJEBqNb"
      },
      "execution_count": null,
      "outputs": []
    },
    {
      "cell_type": "markdown",
      "source": [
        "#Table of Contents in Colab"
      ],
      "metadata": {
        "id": "Zz9BthlBFBJi"
      }
    },
    {
      "cell_type": "markdown",
      "source": [
        "Markdown doesn't just style our text in the notebook.  \n",
        "It also organizes our Table of Contents for the notebook using our heading choices.  \n",
        "-  If the Table of Contents is not visible on the left, click on the 3 lines menu icon in the left side of the notebook to view it.\n",
        "-  You will see that this notebook is organized in an outline format.\n",
        "  -  If you double click in the text cells, you can see the markdown syntax that was used to organize this notebook.\n",
        "-  You will also see that the cells in this frame have down arrows to the left of each frame.\n",
        "  -  Use these arrows to try expanding and colapsing some of the sections of this notebook."
      ],
      "metadata": {
        "id": "T5r4cM0wFJpK"
      }
    },
    {
      "cell_type": "markdown",
      "source": [
        "#Files in Colab\n",
        "You can add files to a notebook in Colab.  \n",
        "But Colab does not offer storage, so each time you close a notebook its files will be deleted.  \n",
        "We will experiment with connecting to files in your Drive and urls later.  \n",
        "For now, if you add a file or image, it will not be saved after you close the notebook. Only the text and code that is written in the cells will be saved."
      ],
      "metadata": {
        "id": "ZVLGz5JGI8eC"
      }
    },
    {
      "cell_type": "markdown",
      "source": [
        "# Experiment and Learn\n",
        "You have now seen some of the basics of Colab, but there are many other functions.  \n",
        "Experiment with the buttons and options in the program.  \n",
        "Play around with the features to see what you can get it to do."
      ],
      "metadata": {
        "id": "a-jxKSwdIcp6"
      }
    },
    {
      "cell_type": "markdown",
      "source": [
        "Assignment:\n",
        "Add a text cell and a code cell below:\n",
        "\n",
        "- The text cell should **explain the code** program in the code cell.\n",
        "- The text needs to show that you used Markdown **and** that you tried different features of Markdown.\n",
        "- The code cell should include **user input** and **do something with the input**."
      ],
      "metadata": {
        "id": "BXDnrU2RhEqW"
      }
    }
  ]
}